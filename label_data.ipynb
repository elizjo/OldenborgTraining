{
 "cells": [
  {
   "cell_type": "code",
   "execution_count": 22,
   "metadata": {},
   "outputs": [],
   "source": [
    "from pigeon import annotate\n",
    "from IPython.display import display, Image\n",
    "from pathlib import Path\n",
    "import shutil"
   ]
  },
  {
   "cell_type": "code",
   "execution_count": 19,
   "metadata": {},
   "outputs": [],
   "source": [
    "data_dir_path = \"../Data\"\n",
    "\n",
    "arg_file_names = []\n",
    "\n",
    "# get '../Data/IMG_0536 Small 2.png formatted paths in list for annotate() \n",
    "for filename in os.listdir(data_dir_path):\n",
    "     arg_file_names.append(os.path.join(data_dir_path, filename))\n",
    "    "
   ]
  },
  {
   "cell_type": "code",
   "execution_count": 11,
   "metadata": {},
   "outputs": [
    {
     "data": {
      "application/vnd.jupyter.widget-view+json": {
       "model_id": "4d1d302593354d18af5dc71b542e4547",
       "version_major": 2,
       "version_minor": 0
      },
      "text/plain": [
       "HTML(value='0 examples annotated, 41 examples left')"
      ]
     },
     "metadata": {},
     "output_type": "display_data"
    },
    {
     "data": {
      "application/vnd.jupyter.widget-view+json": {
       "model_id": "a16b3e007aff4d65a220c17f38b10878",
       "version_major": 2,
       "version_minor": 0
      },
      "text/plain": [
       "HBox(children=(Button(description='left', style=ButtonStyle()), Button(description='right', style=ButtonStyle(…"
      ]
     },
     "metadata": {},
     "output_type": "display_data"
    },
    {
     "data": {
      "application/vnd.jupyter.widget-view+json": {
       "model_id": "61b498682b8a442da152a126bece092c",
       "version_major": 2,
       "version_minor": 0
      },
      "text/plain": [
       "Output()"
      ]
     },
     "metadata": {},
     "output_type": "display_data"
    }
   ],
   "source": [
    "annotations = annotate(\n",
    "  arg_file_names,\n",
    "  options=['left', 'right', 'forward'],\n",
    "  display_fn=lambda filename: display(Image(filename))\n",
    ")"
   ]
  },
  {
   "cell_type": "code",
   "execution_count": 24,
   "metadata": {},
   "outputs": [
    {
     "data": {
      "text/plain": [
       "[('../Data/IMG_0536 Small 2.png', 'forward'),\n",
       " ('../Data/IMG_0577 Small 2.png', 'forward'),\n",
       " ('../Data/IMG_0572 Small 2.png', 'forward'),\n",
       " ('../Data/IMG_0576 Small 2.png', 'forward'),\n",
       " ('../Data/IMG_0550 Small 2.png', 'forward'),\n",
       " ('../Data/IMG_0553 Small 2.png', 'forward'),\n",
       " ('../Data/IMG_0563 Small 2.png', 'right'),\n",
       " ('../Data/IMG_0578 Small 2.png', 'forward'),\n",
       " ('../Data/IMG_0548 Small 2.png', 'right'),\n",
       " ('../Data/IMG_0549 Small 2.png', 'left'),\n",
       " ('../Data/IMG_0561 Small 2.png', 'forward'),\n",
       " ('../Data/IMG_0565 Small 2.png', 'forward'),\n",
       " ('../Data/IMG_0556 Small 2.png', 'left'),\n",
       " ('../Data/IMG_0552 Small 2.png', 'right'),\n",
       " ('../Data/IMG_0544 Small 2.png', 'forward'),\n",
       " ('../Data/IMG_0538 Small 2.png', 'forward'),\n",
       " ('../Data/IMG_0547 Small 2.png', 'forward'),\n",
       " ('../Data/IMG_0566 Small 2.png', 'right'),\n",
       " ('../Data/IMG_0554 Small 2.png', 'forward'),\n",
       " ('../Data/IMG_0545 Small 2.png', 'right'),\n",
       " ('../Data/IMG_0540 Small 2.png', 'left'),\n",
       " ('../Data/IMG_0562 Small 2.png', 'forward'),\n",
       " ('../Data/IMG_0551 Small 2.png', 'forward'),\n",
       " ('../Data/IMG_0568 Small 2.png', 'left'),\n",
       " ('../Data/IMG_0560 Small 2.png', 'forward'),\n",
       " ('../Data/IMG_0573 Small 2.png', 'right'),\n",
       " ('../Data/IMG_0559 Small 2.png', 'forward'),\n",
       " ('../Data/IMG_0558 Small 2.png', 'left'),\n",
       " ('../Data/IMG_0555 Small 2.png', 'forward'),\n",
       " ('../Data/IMG_0569 Small 2.png', 'right'),\n",
       " ('../Data/IMG_0539 Small 2.png', 'forward'),\n",
       " ('../Data/IMG_0557 Small 2.png', 'forward'),\n",
       " ('../Data/IMG_0543 Small 2.png', 'forward'),\n",
       " ('../Data/IMG_0571 Small 2.png', 'forward'),\n",
       " ('../Data/IMG_0567 Small 2.png', 'forward'),\n",
       " ('../Data/IMG_0574 Small 2.png', 'forward'),\n",
       " ('../Data/IMG_0575 Small 2.png', 'right'),\n",
       " ('../Data/IMG_0537 Small 2.png', 'forward'),\n",
       " ('../Data/IMG_0570 Small 2.png', 'forward'),\n",
       " ('../Data/IMG_0546 Small 2.png', 'left')]"
      ]
     },
     "execution_count": 24,
     "metadata": {},
     "output_type": "execute_result"
    }
   ],
   "source": [
    "# the first couple annotations\n",
    "annotations"
   ]
  },
  {
   "cell_type": "code",
   "execution_count": 26,
   "metadata": {},
   "outputs": [],
   "source": [
    "# rename filenames to be of number_label.\n",
    "\n",
    "# create a new folder to house labelled data\n",
    "label_data_dir = \"../Label_Data\"\n",
    "\n",
    "img_num = 0\n",
    "for file, label in annotations:\n",
    "    new_file_name = f\"{img_num}_{label}.png\"\n",
    "\n",
    "    new_file_path = os.path.join(label_data_dir, new_file_name)\n",
    "    shutil.copy(file, new_file_path)\n",
    "    img_num +=1"
   ]
  },
  {
   "cell_type": "markdown",
   "metadata": {},
   "source": [
    "## upload the labelled images to WandB\n",
    "\n",
    "# python upload_data.py RealTestData TestingWorkflow \"uploading real images taken in Oldy\" ../Label_Data"
   ]
  }
 ],
 "metadata": {
  "kernelspec": {
   "display_name": "domain_rand",
   "language": "python",
   "name": "python3"
  },
  "language_info": {
   "codemirror_mode": {
    "name": "ipython",
    "version": 3
   },
   "file_extension": ".py",
   "mimetype": "text/x-python",
   "name": "python",
   "nbconvert_exporter": "python",
   "pygments_lexer": "ipython3",
   "version": "3.10.12"
  },
  "vscode": {
   "interpreter": {
    "hash": "44b568d3db8ea8696563f7bf1f0430052acd3978b11a8300d50fb7b3228d1e6a"
   }
  }
 },
 "nbformat": 4,
 "nbformat_minor": 4
}
